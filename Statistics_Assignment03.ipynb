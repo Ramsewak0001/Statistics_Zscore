{
 "cells": [
  {
   "cell_type": "code",
   "execution_count": null,
   "id": "c39e83f6-64ed-4c24-acc6-a0838ed6655c",
   "metadata": {},
   "outputs": [],
   "source": [
    "Q1: What are the Probability Mass Function (PMF) and Probability Density Function (PDF)? Explain with\n",
    "    an example."
   ]
  },
  {
   "cell_type": "code",
   "execution_count": null,
   "id": "f4d6f79b-baba-4683-939f-f342c71c1896",
   "metadata": {},
   "outputs": [],
   "source": [
    "Probability Mass Function (PMF):\n",
    "                 PMF is used for discrete random variables, which take on specific, distinct values.\n",
    "                 It gives the probability that a random variable is equal to a particular value.\n",
    "                 The PMF is defined as P(X = x), where X is the random variable, and x is a specific value.\n",
    "                 The sum of all PMF values over all possible values of the random variable must equal 1.\n",
    "    Example:\n",
    "        Consider a fair six-sided die. The random variable X represents the outcome when the die is rolled. \n",
    "\n",
    "Probability Density Function (PDF):\n",
    "                 PDF is used for continuous random variables, which can take on any value within a range (infinite possibilities).\n",
    "                 It represents the probability of the random variable falling within a particular interval or range of values.\n",
    "                 The PDF is denoted as f(x), and it's the derivative of the cumulative distribution function (CDF).\n",
    "                 The total area under the PDF curve over the entire range is equal to 1.\n",
    "    Example:\n",
    "        Let's consider a continuous random variable Y that represents the height of individuals in a population.\n",
    "        The PDF for this random variable might be a normal distribution (bell-shaped curve)"
   ]
  },
  {
   "cell_type": "code",
   "execution_count": null,
   "id": "30bd6e97-d5d8-40c3-a103-9cfbd2756ae3",
   "metadata": {},
   "outputs": [],
   "source": [
    "Q2: What is Cumulative Density Function (CDF)? Explain with an example. Why CDF is used?"
   ]
  },
  {
   "cell_type": "code",
   "execution_count": null,
   "id": "efbb21bd-aa3e-4dc7-9e67-f232bb12d368",
   "metadata": {},
   "outputs": [],
   "source": [
    "Ans: A cumulative density function (CDF) is a function that gives the probability that a random variable\n",
    "will take a value less than or equal to a certain number. The CDF is calculated by taking the integral\n",
    "of the probability density function (PDF) over a range of values.\n",
    "Example:\n",
    "The CDF of an exponential distribution, which models the time between events in a Poisson process, \n",
    "such as radioactive decay or customer arrivals. The CDF is given by F(x) = 1 - e^(-λx), where λ is\n",
    "the rate parameter1 shows a plot of this CDF for different values of λ.\n",
    "Use:\n",
    "The CDF is useful for determining the likelihood that a random observation taken from the population\n",
    "will be less than or equal to a particular value. The CDF always ranges between 0 and 1.\n"
   ]
  },
  {
   "cell_type": "code",
   "execution_count": null,
   "id": "f16d80c3-79c1-48df-a9e0-87445f075ce5",
   "metadata": {},
   "outputs": [],
   "source": [
    "Q3: What are some examples of situations where the normal distribution might be used as a model?\n",
    "   Explain how the parameters of the normal distribution relate to the shape of the distribution."
   ]
  },
  {
   "cell_type": "code",
   "execution_count": null,
   "id": "2902ecdf-aa53-40e9-9665-a5b1bacc0736",
   "metadata": {},
   "outputs": [],
   "source": [
    "Ans: Some examples of situations where the normal distribution might be used as a model are:\n",
    "\n",
    "Test scores: The normal distribution can be used to model the distribution of test scores in a large population \n",
    "of students. The mean of the normal distribution represents the average score, while the standard deviation\n",
    "measures how much the scores vary from the mean. A low standard deviation means that most students score\n",
    "close to the average, while a high standard deviation means that there is more variation in the scores.\n",
    "\n",
    "The parameters of the normal distribution, namely the mean and the standard deviation, \n",
    "relate to the shape of the distribution as follows:\n",
    "\n",
    "The mean determines where the peak of the curve is centered. Increasing or decreasing the mean shifts the\n",
    "curve to the right or left, respectively.\n",
    "The standard deviation determines how wide or narrow the curve is. Increasing or decreasing the standard \n",
    "deviation stretches or squeezes the curve, respectively. A larger standard deviation means that more values\n",
    "are farther away from the mean, while a smaller standard deviation means that more values are closer to the mean."
   ]
  },
  {
   "cell_type": "code",
   "execution_count": null,
   "id": "46a6836f-75ab-47d3-b1dd-b92a2f2eb439",
   "metadata": {},
   "outputs": [],
   "source": [
    "Q4: Explain the importance of Normal Distribution. Give a few real-life examples of Normal Distribution."
   ]
  },
  {
   "cell_type": "code",
   "execution_count": null,
   "id": "f2fca7e2-f81b-4d3f-96ed-bd040193848c",
   "metadata": {},
   "outputs": [],
   "source": [
    "Ans: Normal distribution is important in statistics because it is a common type of distribution that occurs in \n",
    "     many natural and social phenomena. It has several properties that make it easy to analyze and interpret, such as:\n",
    "\n",
    "     The mean, median and mode are equal and represent the center of the distribution.\n",
    "     The distribution is symmetric and bell-shaped, meaning that the data are evenly distributed around the mean.\n",
    "     The distribution is completely determined by two parameters: the mean and the standard deviation, which \n",
    "     measure the location and the spread of the data respectively.\n",
    "     The distribution follows the empirical rule, which states that about 68%, 95% and 99.7% of the data fall \n",
    "     within one, two and three standard deviations from the mean.\n",
    "     The distribution is related to the central limit theorem, which states that the sampling distribution of \n",
    "     the mean of any independent random variable will be normal or nearly normal, if the sample size is large enough.\n",
    " \n",
    "     Some examples of real-life phenomena that follow or approximate the normal distribution are:\n",
    "\n",
    "     Heights of people: The average height of a population is usually around 170 cm, with most people having heights\n",
    "     within a few centimeters of this value. The standard deviation of height is about 10 cm, meaning that about 95% \n",
    "    of people have heights between 150 and 190 cm1."
   ]
  },
  {
   "cell_type": "code",
   "execution_count": null,
   "id": "c0fa1df1-66d0-4d36-b064-c79db4691d3d",
   "metadata": {},
   "outputs": [],
   "source": [
    "Q5: What is Bernaulli Distribution? Give an Example. What is the difference between Bernoulli\n",
    "    Distribution and Binomial Distribution?"
   ]
  },
  {
   "cell_type": "code",
   "execution_count": null,
   "id": "d4ecc4a3-fdf4-479b-b68b-259326a686f4",
   "metadata": {},
   "outputs": [],
   "source": [
    "Ans: Bernoulli Distribution is a discrete probability indicator used for determining the possible outcome of a single \n",
    "     random experiment (Bernoulli trial). A random variable that follows a Bernoulli distribution can only take on two\n",
    "    possible values, success or failure.\n",
    "    \n",
    "    Example: A coin flip is a Bernoulli trial, where the outcome can be either heads or tails.\n",
    "    \n",
    "    Bernoulli deals with the outcome of a single trial of the event, \n",
    "    whereas Binomial deals with the outcome of multiple trials of the single event.\n"
   ]
  },
  {
   "cell_type": "code",
   "execution_count": null,
   "id": "745dbed4-8c49-4478-b65f-d65c238b44c6",
   "metadata": {},
   "outputs": [],
   "source": [
    "Q6. Consider a dataset with a mean of 50 and a standard deviation of 10. If we assume that the dataset\n",
    "    is normally distributed, what is the probability that a randomly selected observation will be greater\n",
    "    than 60? Use the appropriate formula and show your calculations."
   ]
  },
  {
   "cell_type": "code",
   "execution_count": null,
   "id": "41634405-bc36-4740-9a99-adb91b825020",
   "metadata": {},
   "outputs": [],
   "source": [
    "Ans: mean (u) = 50\n",
    "     standard deviation (sigma) = 10\n",
    "     x =60\n",
    "     z = (x - u)/sigma\n",
    "     z = (60-50)/10 = 1\n",
    "    \n",
    "    from z- score table the cumulative probability is 0.8413\n",
    "    hence the probablity is 1-0.8413 = 0.1586"
   ]
  },
  {
   "cell_type": "code",
   "execution_count": 1,
   "id": "efedaacf-44c2-4aec-8afe-5513ef11070a",
   "metadata": {},
   "outputs": [],
   "source": [
    "mean = 50\n",
    "std = 10\n",
    "x = 60\n",
    "z = (x-mean)/std"
   ]
  },
  {
   "cell_type": "code",
   "execution_count": 2,
   "id": "073a40e0-82d7-4988-8fb2-2cc5d5ca6a12",
   "metadata": {},
   "outputs": [
    {
     "data": {
      "text/plain": [
       "0.15865525393145707"
      ]
     },
     "execution_count": 2,
     "metadata": {},
     "output_type": "execute_result"
    }
   ],
   "source": [
    "import scipy.stats as stats\n",
    "probability = 1 - stats.norm.cdf(z)\n",
    "probability"
   ]
  },
  {
   "cell_type": "code",
   "execution_count": null,
   "id": "2ff3a5e6-ad1f-4960-b8b0-eaa2192c0312",
   "metadata": {},
   "outputs": [],
   "source": [
    "Q7: Explain uniform Distribution with an example."
   ]
  },
  {
   "cell_type": "code",
   "execution_count": null,
   "id": "83f550a2-ecd6-4ef5-931a-365c614e4968",
   "metadata": {},
   "outputs": [],
   "source": [
    "Ans: A uniform distribution is a type of probability distribution where all possible outcomes have the \n",
    "     same chance of occurring. It can be either discrete or continuous, depending on whether \n",
    "     the outcomes are finite or infinite.\n",
    "\n",
    "     An example of a discrete uniform distribution is the probability of rolling a die. \n",
    "     There are six possible outcomes, each with a probability of 1/6. \n",
    "     The graph of this distribution is a rectangle with six equal bars."
   ]
  },
  {
   "cell_type": "code",
   "execution_count": null,
   "id": "9ca64fc3-1706-4943-b3da-cde0ad867a42",
   "metadata": {},
   "outputs": [],
   "source": [
    "Q8: What is the z score? State the importance of the z score."
   ]
  },
  {
   "cell_type": "code",
   "execution_count": null,
   "id": "339bba2f-28dd-42b5-8d6c-6691ed8a9521",
   "metadata": {},
   "outputs": [],
   "source": [
    "Ans: A z-score is a measure of how many standard deviations a given value is away from the mean of a distribution.\n",
    "     It is calculated by subtracting the mean from the value and dividing by the standard deviation. \n",
    "     A z-score can be positive, negative, or zero, depending on whether the value is above, below, or equal to the mean.\n",
    "        \n",
    "    The importance of the z-score is that it allows us to compare values from different distributions or\n",
    "    scales by standardizing them. "
   ]
  },
  {
   "cell_type": "code",
   "execution_count": null,
   "id": "52c2c17d-b3c6-4a33-b149-5868343368a9",
   "metadata": {},
   "outputs": [],
   "source": [
    "Q9: What is Central Limit Theorem? State the significance of the Central Limit Theorem."
   ]
  },
  {
   "cell_type": "code",
   "execution_count": null,
   "id": "e8074256-bc04-4139-a4fa-d59e040fd6a5",
   "metadata": {},
   "outputs": [],
   "source": [
    "Ans: The Central Limit Theorem is a statistical principle that states that the mean of a large number of samples \n",
    "     from a population is approximately equal to the mean of the population.\n",
    "    \n",
    "    The significance of the Central Limit Theorem is that it allows us to use the normal distribution as an \n",
    "    approximation for many problems involving other types of distributions, as long as the sample size is large enough. "
   ]
  },
  {
   "cell_type": "code",
   "execution_count": null,
   "id": "b378f607-b864-463c-8fc8-75f3b00894ae",
   "metadata": {},
   "outputs": [],
   "source": [
    "Q10: State the assumptions of the Central Limit Theorem."
   ]
  },
  {
   "cell_type": "code",
   "execution_count": null,
   "id": "bbd177b6-38c8-40ce-a9dc-2c2c247d7a3f",
   "metadata": {},
   "outputs": [],
   "source": [
    "Ans:\n",
    " 1. The samples must be independent of each other, meaning that the selection of one sample does not affect\n",
    "    the selection of another sample.\n",
    " 2.The samples must be randomly selected, meaning that every element in the population has an equal chance\n",
    "   of being included in the sample.\n",
    " 3.The sample size must be sufficiently large, usually n > 30, to ensure that the sampling distribution of\n",
    "   the mean is approximately normal. This condition is also known as the 30 rule."
   ]
  }
 ],
 "metadata": {
  "kernelspec": {
   "display_name": "Python 3 (ipykernel)",
   "language": "python",
   "name": "python3"
  },
  "language_info": {
   "codemirror_mode": {
    "name": "ipython",
    "version": 3
   },
   "file_extension": ".py",
   "mimetype": "text/x-python",
   "name": "python",
   "nbconvert_exporter": "python",
   "pygments_lexer": "ipython3",
   "version": "3.10.8"
  }
 },
 "nbformat": 4,
 "nbformat_minor": 5
}
